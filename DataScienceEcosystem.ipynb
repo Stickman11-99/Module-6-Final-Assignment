{
 "cells": [
  {
   "cell_type": "markdown",
   "id": "58a4500c-ca33-4553-9d81-577bd3b4b9d3",
   "metadata": {},
   "source": [
    "# Data Science Tools and Ecosystem"
   ]
  },
  {
   "cell_type": "markdown",
   "id": "ac42b36d-606d-4073-a1aa-49ccb1e15d04",
   "metadata": {},
   "source": [
    "In this notebook Data Science Tools and Ecosystem are summarized."
   ]
  },
  {
   "cell_type": "markdown",
   "id": "b4fd1ab1-d768-4524-9001-73a18cc81e3a",
   "metadata": {},
   "source": [
    "**Objectives:**\n",
    "- Create a Jupyter Notebook\n",
    "- Create a Markdown cell to list Data Science languages\n",
    "- Create a Markdown cell to list Data Science tools\n",
    "- Create a Code cell\n",
    "- Insert a Markdown cell\n"
   ]
  },
  {
   "cell_type": "markdown",
   "id": "a9bc46fd-a71d-435b-b02d-5fdba7b4ab7d",
   "metadata": {},
   "source": [
    "Some of the popular languages that Data Scientists use are:\n",
    "1. Java\n",
    "2. JavaScript\n",
    "3. Julia\n",
    "4. Python\n",
    "5. R"
   ]
  },
  {
   "cell_type": "markdown",
   "id": "27227f52-02d3-44ed-ab99-cba6f53c4eac",
   "metadata": {},
   "source": [
    "Some of the commonly used libraries used by Data Scientists include:\n",
    "1. ggplot2\n",
    "2. Lattice\n",
    "3. NumPy\n",
    "4. Pandas\n",
    "   "
   ]
  },
  {
   "cell_type": "markdown",
   "id": "6d7fba76-2ee6-4d70-8946-89da67415524",
   "metadata": {},
   "source": [
    "| Data Science Tools | \n",
    "|-------------------|\n",
    "| Jupyter Notebook |\n",
    "| RStudio |\n",
    "| Spyder |"
   ]
  },
  {
   "cell_type": "markdown",
   "id": "bb43ee8f-8b01-4225-bcf8-f1c934adf76a",
   "metadata": {},
   "source": [
    "### Below are a few examples of arithmetic expressions in Python"
   ]
  },
  {
   "cell_type": "code",
   "execution_count": 26,
   "id": "17e0e397-f08d-4ce1-8bde-7f4c04aa7254",
   "metadata": {},
   "outputs": [
    {
     "name": "stdout",
     "output_type": "stream",
     "text": [
      "This is a simple arithmetic expression to add and multiply integers\n"
     ]
    },
    {
     "data": {
      "text/plain": [
       "17"
      ]
     },
     "execution_count": 26,
     "metadata": {},
     "output_type": "execute_result"
    }
   ],
   "source": [
    "print (\"This is a simple arithmetic expression to add and multiply integers\")\n",
    "(3*4)+5"
   ]
  },
  {
   "cell_type": "code",
   "execution_count": 28,
   "id": "22be75c0-bb1e-4a3e-8d36-76c1c6c85a9f",
   "metadata": {},
   "outputs": [
    {
     "name": "stdout",
     "output_type": "stream",
     "text": [
      "This will convert 200 minutes to hours\n"
     ]
    },
    {
     "data": {
      "text/plain": [
       "3.3333333333333335"
      ]
     },
     "execution_count": 28,
     "metadata": {},
     "output_type": "execute_result"
    }
   ],
   "source": [
    "print (\"This will convert 200 minutes to hours\")\n",
    "200/60"
   ]
  },
  {
   "cell_type": "markdown",
   "id": "caad8a35-fabb-438f-9737-e266e4157766",
   "metadata": {},
   "source": [
    "## Author\n",
    "Rick Callander"
   ]
  },
  {
   "cell_type": "code",
   "execution_count": null,
   "id": "de84c928-337a-45ae-860a-4afd0170115d",
   "metadata": {},
   "outputs": [],
   "source": []
  }
 ],
 "metadata": {
  "kernelspec": {
   "display_name": "Python 3 (ipykernel)",
   "language": "python",
   "name": "python3"
  },
  "language_info": {
   "codemirror_mode": {
    "name": "ipython",
    "version": 3
   },
   "file_extension": ".py",
   "mimetype": "text/x-python",
   "name": "python",
   "nbconvert_exporter": "python",
   "pygments_lexer": "ipython3",
   "version": "3.12.7"
  }
 },
 "nbformat": 4,
 "nbformat_minor": 5
}
